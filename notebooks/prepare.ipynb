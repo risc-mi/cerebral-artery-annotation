{
 "cells": [
  {
   "cell_type": "markdown",
   "source": [
    "# Preparing the dataset\n",
    "\n",
    "This notebook can be used to reproduce the full dataset used for training.\n",
    "\n",
    "First download *and* extract the following data to a folder ```<path-to/IXI>```:\n",
    "- [T1 images](http://biomedic.doc.ic.ac.uk/brain-development/downloads/IXI/IXI-T1.tar)\n",
    "- [T2 images](http://biomedic.doc.ic.ac.uk/brain-development/downloads/IXI/IXI-T2.tar)\n",
    "- [PD images](http://biomedic.doc.ic.ac.uk/brain-development/downloads/IXI/IXI-PD.tar)\n",
    "- [MRA images](http://biomedic.doc.ic.ac.uk/brain-development/downloads/IXI/IXI-MRA.tar)\n",
    "\n",
    "The following cell sets up the paths for the data:"
   ],
   "metadata": {
    "collapsed": false
   },
   "id": "7fe434ff028d23c9"
  },
  {
   "cell_type": "code",
   "execution_count": null,
   "id": "4d3f4fd419dfa903",
   "metadata": {},
   "outputs": [],
   "source": [
    "ixi_raw = '<path-to/IXI>'               # set to the folder containing the extracted IXI data\n",
    "ds_raw = '<path-to/Dataset600_IXI>'     # set to the Dataset600_IXI folder checked out with this repository"
   ]
  },
  {
   "cell_type": "markdown",
   "id": "88519ce2d998968d",
   "metadata": {},
   "source": [
    "Execute the following cell once to copy the extracted files to the dataset folder:"
   ]
  },
  {
   "cell_type": "code",
   "execution_count": null,
   "outputs": [],
   "source": [
    "import SimpleITK as sitk\n",
    "import os\n",
    "from glob import glob\n",
    "\n",
    "cnt = 0\n",
    "fps = glob(os.path.join(ixi_raw, '*', 'IXI*-*-*-*.nii.gz'), recursive=True)\n",
    "print(f\"Found {len(fps)} files in the IXI source folder\")\n",
    "\n",
    "for fp in fps:\n",
    "    fn = os.path.basename(fp)\n",
    "    bn, ext = fn.split('.', maxsplit=1)\n",
    "    name, inst, nr, mod = bn.split('-')\n",
    "    img_fn = f'{bn}_0000.{ext}'\n",
    "    lbl_fn = f'{bn}.{ext}'\n",
    "    img_fp = None\n",
    "    if inst in ('HH', 'Guys'):\n",
    "        img_fp = os.path.join(ds_raw, 'imagesTr', img_fn)\n",
    "        lbl_fp = os.path.join(ds_raw, 'labelsTr', lbl_fn)\n",
    "    elif inst == 'IOP':\n",
    "        img_fp = os.path.join(ds_raw, 'imagesTs', img_fn)\n",
    "        lbl_fp = os.path.join(ds_raw, 'labelsTs', lbl_fn)\n",
    "        \n",
    "    if img_fp is not None and os.path.exists(lbl_fp):\n",
    "        cnt += 1\n",
    "        if not os.path.exists(img_fp):\n",
    "            print(f'copying: {fn} to {img_fp}')\n",
    "            img = sitk.ReadImage(fp)\n",
    "            img = sitk.DICOMOrient(img, 'RAI')\n",
    "            sitk.WriteImage(img, img_fp, True)\n",
    "        \n",
    "assert(cnt == 2218)\n",
    "print(\"Dataset is complete!\")\n",
    "\n",
    "            "
   ],
   "metadata": {
    "collapsed": false
   },
   "id": "766ea532176a1db1"
  },
  {
   "cell_type": "markdown",
   "source": [
    "Note, that not all patients/ids available in the IXI dataset are used.\n",
    "In the following, we refer to IDs as the first number part in the filename, i.e., 002 for ```IXI002-Guys-0828-MRA.nii.gz```.\n",
    "Images have been excluded where either:\n",
    "* the MRA or T1 image where not included, 13 automatically excluded IDs:\n",
    "    * Training: 014, 116, 182, 213, 225, 255, 302, 578, 589, 651\n",
    "    * Test: 233, 309, 580\n",
    "* the ground-truth generation algorithm yielded incorrect results, 14 manually screened and excluded IDs:\n",
    "    * Training: 113, 169, 229, 244, 299, 415, 440, 457, 458, 468, 490, 585\n",
    "    * Test: 371, 478 \n",
    "\n",
    "The final dataset should contain 2218 images and respective labels: 1938 images in imagesTr/labelsTr and 280 images in imagesTs/labelsTs. "
   ],
   "metadata": {
    "collapsed": false
   },
   "id": "841a19dbca4ff696"
  }
 ],
 "metadata": {
  "kernelspec": {
   "display_name": "Python 3 (ipykernel)",
   "language": "python",
   "name": "python3"
  },
  "language_info": {
   "codemirror_mode": {
    "name": "ipython",
    "version": 3
   },
   "file_extension": ".py",
   "mimetype": "text/x-python",
   "name": "python",
   "nbconvert_exporter": "python",
   "pygments_lexer": "ipython3",
   "version": "3.8.13"
  }
 },
 "nbformat": 4,
 "nbformat_minor": 5
}
