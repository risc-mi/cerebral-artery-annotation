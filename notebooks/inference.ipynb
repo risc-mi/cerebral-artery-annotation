{
 "cells": [
  {
   "cell_type": "markdown",
   "source": [
    "# Inference using the Models\n",
    "\n",
    "This notebook shows how our pretrained models can be used for inference.\n",
    "\n",
    "## Model preparation\n",
    "\n",
    "First download *and* extract the [models](https://drive.google.com/drive/folders/1-AJ6OdFb3IqR4gnbwxh9NmxJ46gzsVPL?usp=drive_link) to a folder ```<path-to/models>```.\n",
    "The following cell sets up the paths for inference:"
   ],
   "metadata": {
    "collapsed": false
   },
   "id": "7fe434ff028d23c9"
  },
  {
   "cell_type": "code",
   "execution_count": 2,
   "id": "4d3f4fd419dfa903",
   "metadata": {
    "ExecuteTime": {
     "end_time": "2023-10-27T14:19:42.658968Z",
     "start_time": "2023-10-27T14:19:42.648233600Z"
    }
   },
   "outputs": [],
   "source": [
    "pretrained_path = '<path-to/models>'   # path the models have been extracted to, i.e., it should contain a folder Dataset600_IXI\n",
    "input_path = '<path-to/input>'         # path to a folder containing data to predict, should contain .nii.gz images\n",
    "output_path = '<path-to/output>'       # path to a folder to write the results to"
   ]
  },
  {
   "cell_type": "markdown",
   "source": [
    "## Inference\n",
    "\n",
    "As with training, you can infer using our models using the nnU-Net Framework (v2), which can be checked out from its [Github](https://github.com/MIC-DKFZ/nnUNet) repository or installed from [PyPI](https://pypi.org/project/nnunetv2/). Look for more information in the training.ipynb.\n",
    "\n",
    "**Note**: It is worth checking the image orientation (as in the cosine orientation matrix), as it is sometimes incorrectly interpreted by nnU-Net. \n",
    "The models are not orientation-agnostic and will produce inferior results if the orientation of the input does not match the standard patient orientation.\n",
    "We found preprocessing the images with ```SimpleITK.DICOMOrient```, using 'RAI' as the reference orientation to convert to, to be sufficient. \n",
    "An example of this can be found in training.ipynb."
   ],
   "metadata": {
    "collapsed": false
   },
   "id": "d6ffd8efc030b54"
  },
  {
   "cell_type": "code",
   "execution_count": null,
   "outputs": [],
   "source": [
    "import os\n",
    "models_path = os.path.join(pretrained_path, r\"Dataset600_IXI\\nnUNetTrainerNoMirroring__nnUNetPlans__3d_fullres\")\n",
    "\n",
    "cmd = [\"nnUNetv2_predict_from_modelfolder\",\n",
    "       '-i', f'\"{input_path}\"'\n",
    "       '-o', f'\"{output_path}\"'\n",
    "       '-m', f'\"{models_path}\"'\n",
    "       ]\n",
    "cmd = ' '.join(cmd)\n",
    "\n",
    "print(f\"-- running command: \\n> {cmd}\")\n",
    "os.system(cmd)"
   ],
   "metadata": {
    "collapsed": false
   },
   "id": "61ece655fa6e3ee1"
  }
 ],
 "metadata": {
  "kernelspec": {
   "display_name": "Python 3 (ipykernel)",
   "language": "python",
   "name": "python3"
  },
  "language_info": {
   "codemirror_mode": {
    "name": "ipython",
    "version": 3
   },
   "file_extension": ".py",
   "mimetype": "text/x-python",
   "name": "python",
   "nbconvert_exporter": "python",
   "pygments_lexer": "ipython3",
   "version": "3.8.13"
  }
 },
 "nbformat": 4,
 "nbformat_minor": 5
}
