{
 "cells": [
  {
   "cell_type": "markdown",
   "source": [
    "# Training the Models\n",
    "\n",
    "This notebook can be used to train and reproduce the nnU-Net models from our ground-truth annotations for the IXI dataset."
   ],
   "metadata": {
    "collapsed": false
   },
   "id": "7fe434ff028d23c9"
  },
  {
   "cell_type": "markdown",
   "source": [
    "With the dataset complete, you can train your model using the nnU-Net Framework (v2), which can be checked out from its [Github](https://github.com/MIC-DKFZ/nnUNet) repository or installed from [PyPI](https://pypi.org/project/nnunetv2/).\n",
    "**IMPORTANT:** Make sure to set up pytorch and CUDA correctly for your system before installing nnU-Net. \n",
    "Otherwise, the default pytorch package will be installed from PyPI and likely not be compatible with your local GPU. \n",
    "Please refer to the Installation [Instructions](https://github.com/MIC-DKFZ/nnUNet/blob/master/documentation/installation_instructions.md) of nnU-Net.\n",
    "\n",
    "The following cell installs Pytorch 2.1.0 with CUDA 11.8 in your Conda-based Jupyter environment, you may need to adapt this to your system."
   ],
   "metadata": {
    "collapsed": false
   },
   "id": "d6ffd8efc030b54"
  },
  {
   "cell_type": "code",
   "execution_count": null,
   "outputs": [],
   "source": [
    "!conda install pytorch torchvision torchaudio pytorch-cuda=11.8 -c pytorch -c nvidia\n",
    "!pip install nnunetv2==2.2.2"
   ],
   "metadata": {
    "collapsed": false
   },
   "id": "9c600110704ce696"
  },
  {
   "cell_type": "markdown",
   "source": [
    "The following cell sets up the paths for nnu-net:"
   ],
   "metadata": {
    "collapsed": false
   },
   "id": "79ef0dad3cb1c8fd"
  },
  {
   "cell_type": "code",
   "execution_count": null,
   "outputs": [],
   "source": [
    "import os\n",
    "ixi_raw = '<path-to/IXI>'                           # set to the folder containing the extracted IXI data\n",
    "ds_raw = '<path-to/Dataset600_IXI>'                 # set to the Dataset600_IXI folder checked out with this repository\n",
    "nnu_preprocessed = '<path-to/preprocessed>'          # folder tow rite preprocessed data to, tends to use huge amounts of space. Should be a fast access drive (we recommend a fast SSD)\n",
    "nnu_results = '<path-to/results>'                    # folder for training results. Access speed and storage capacity is not as critical (can be HDD)\n",
    "nnu_raw = os.path.dirname(ds_raw)"
   ],
   "metadata": {
    "collapsed": false
   },
   "id": "c402e48abf62d66e"
  },
  {
   "cell_type": "markdown",
   "source": [
    "Finally, the next cell runs the training using subprocess.\n",
    "If you are unable to configure nnU-Net in your Jupyter environment, you can run the cells below to print  command lines, which you can then run in any python prompt after setting the environment variables."
   ],
   "metadata": {
    "collapsed": false
   },
   "id": "46f4210405006a1b"
  },
  {
   "cell_type": "code",
   "execution_count": null,
   "outputs": [],
   "source": [
    "env = {\n",
    "    \"nnUNet_raw\": nnu_raw,\n",
    "    \"nnUNet_preprocessed\": nnu_preprocessed,\n",
    "    \"nnUNet_results\": nnu_results\n",
    "}\n",
    "print(\"-- environment: \\n{}\\n\".format('\\n'.join(': '.join(e) for e in env.items())))\n",
    "import os\n",
    "os.environ.update(env)"
   ],
   "metadata": {
    "collapsed": false,
    "is_executing": true
   },
   "id": "b3966397682b3cf"
  },
  {
   "cell_type": "markdown",
   "source": [
    "### nnU-Net: Preprocessing the dataset\n",
    "\n",
    "Before the actual training can be started, nnU-Net needs to preprocess the dataset (once).\n",
    "Run the following cell once before your training."
   ],
   "metadata": {
    "collapsed": false
   },
   "id": "3a740fb5d7af187e"
  },
  {
   "cell_type": "code",
   "execution_count": null,
   "outputs": [],
   "source": [
    "cmd = [\"nnUNetv2_plan_and_preprocess\", \"--verify_dataset_integrity\", \n",
    "       '-d', '600',          # dataset task to train\n",
    "       '-c', '3d_fullres',   # model configuration to train\n",
    "       '--verbose'          # show training output\n",
    "       ]\n",
    "cmd = ' '.join(cmd)\n",
    "\n",
    "print(f\"-- running command: \\n> {cmd}\")\n",
    "import os\n",
    "os.system(cmd)"
   ],
   "metadata": {
    "collapsed": false,
    "is_executing": true
   },
   "id": "a9a028e597d303c1"
  },
  {
   "cell_type": "markdown",
   "source": [
    "### nnU-Net: Running the Training\n",
    "\n",
    "After the dataset has been preprocessed, you can execute the following cell to train the models."
   ],
   "metadata": {
    "collapsed": false
   },
   "id": "8e53b3f4ab89cb30"
  },
  {
   "cell_type": "code",
   "execution_count": null,
   "outputs": [],
   "source": [
    "for fold in range(5):\n",
    "    cmd = [\"nnUNetv2_train\", \n",
    "           '600',                               # dataset task to train\n",
    "           '3d_fullres',                        # model configuration to train\n",
    "           str(fold),                           # fold to train (0-5)\n",
    "           '-tr', 'nnUNetTrainerNoMirroring',   # do not use mirroring augmentations\n",
    "           ]\n",
    "    cmd = ' '.join(cmd)\n",
    "    \n",
    "    print(f\"-- running command: \\n> {cmd}\")\n",
    "    import os\n",
    "    os.system(cmd)"
   ],
   "metadata": {
    "collapsed": false
   },
   "id": "61ece655fa6e3ee1"
  }
 ],
 "metadata": {
  "kernelspec": {
   "display_name": "Python 3 (ipykernel)",
   "language": "python",
   "name": "python3"
  },
  "language_info": {
   "codemirror_mode": {
    "name": "ipython",
    "version": 3
   },
   "file_extension": ".py",
   "mimetype": "text/x-python",
   "name": "python",
   "nbconvert_exporter": "python",
   "pygments_lexer": "ipython3",
   "version": "3.8.13"
  }
 },
 "nbformat": 4,
 "nbformat_minor": 5
}
